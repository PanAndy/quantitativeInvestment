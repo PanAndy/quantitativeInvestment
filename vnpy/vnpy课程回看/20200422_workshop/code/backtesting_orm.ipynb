{
 "cells": [
  {
   "cell_type": "code",
   "execution_count": 1,
   "metadata": {},
   "outputs": [],
   "source": [
    "#%%\n",
    "from vnpy.app.cta_strategy.backtesting import BacktestingEngine, OptimizationSetting\n",
    "from orm_strategy import OrmStrategy\n",
    "from datetime import datetime"
   ]
  },
  {
   "cell_type": "code",
   "execution_count": 2,
   "metadata": {},
   "outputs": [],
   "source": [
    "#%%\n",
    "engine = BacktestingEngine()\n",
    "engine.set_parameters(\n",
    "    vt_symbol=\"IF888.CFFEX\",\n",
    "    interval=\"1m\",\n",
    "    start=datetime(2019, 3, 1),\n",
    "    end=datetime(2019, 4, 30),\n",
    "    rate=0.3/10000,\n",
    "    slippage=0.2,\n",
    "    size=300,\n",
    "    pricetick=0.2,\n",
    "    capital=1_000_000,\n",
    ")\n",
    "engine.add_strategy(OrmStrategy, {})"
   ]
  },
  {
   "cell_type": "code",
   "execution_count": 3,
   "metadata": {
    "scrolled": false
   },
   "outputs": [
    {
     "name": "stdout",
     "output_type": "stream",
     "text": [
      "2020-04-20 14:25:55.884263\t开始加载历史数据\n",
      "2020-04-20 14:25:56.581557\t加载进度：##### [50%]\n",
      "2020-04-20 14:25:57.123584\t加载进度：########## [100%]\n",
      "2020-04-20 14:25:57.124554\t历史数据加载完成，数据量：9840\n",
      "2020-04-20 14:25:57.223111\t策略初始化完成\n",
      "2020-04-20 14:25:57.226061\t开始回放历史数据\n",
      "2020-04-20 14:26:00.606475\t历史数据回放结束\n"
     ]
    }
   ],
   "source": [
    "#%%\n",
    "engine.load_data()\n",
    "engine.run_backtesting()\n",
    "# df = engine.calculate_result()\n",
    "# engine.calculate_statistics()\n",
    "# engine.show_chart()"
   ]
  },
  {
   "cell_type": "code",
   "execution_count": null,
   "metadata": {},
   "outputs": [],
   "source": []
  }
 ],
 "metadata": {
  "kernelspec": {
   "display_name": "Python 3",
   "language": "python",
   "name": "python3"
  },
  "language_info": {
   "codemirror_mode": {
    "name": "ipython",
    "version": 3
   },
   "file_extension": ".py",
   "mimetype": "text/x-python",
   "name": "python",
   "nbconvert_exporter": "python",
   "pygments_lexer": "ipython3",
   "version": "3.7.4"
  }
 },
 "nbformat": 4,
 "nbformat_minor": 2
}
